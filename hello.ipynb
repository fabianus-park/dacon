{
 "cells": [
  {
   "cell_type": "code",
   "execution_count": 4,
   "metadata": {},
   "outputs": [
    {
     "data": {
      "text/plain": [
       "['.git',\n",
       " '.gitignore',\n",
       " '.venv',\n",
       " 'dacon_submit.py',\n",
       " 'dacon_submit_api-0.0.4-py3-none-any',\n",
       " 'hello.ipynb',\n",
       " 'hello.py',\n",
       " 'LICENSE',\n",
       " 'local-setting.py',\n",
       " 'README.md',\n",
       " 'seoul_landmark']"
      ]
     },
     "execution_count": 4,
     "metadata": {},
     "output_type": "execute_result"
    }
   ],
   "source": [
    "import os\n",
    "path = \"./\"\n",
    "file_list = os.listdir(path)\n",
    "file_list"
   ]
  },
  {
   "cell_type": "code",
   "execution_count": 6,
   "metadata": {},
   "outputs": [
    {
     "data": {
      "text/plain": [
       "['sample_submission.csv',\n",
       " 'submission1.csv',\n",
       " 'submission20220812174249.csv',\n",
       " 'submission20220812180442.csv',\n",
       " 'submission20220812182931.csv']"
      ]
     },
     "execution_count": 6,
     "metadata": {},
     "output_type": "execute_result"
    }
   ],
   "source": [
    "import os\n",
    "path = \".\\\\seoul_landmark\\\\dataset\"  # \\\\train\n",
    "file_list = os.listdir(path)\n",
    "file_list[:5]"
   ]
  },
  {
   "cell_type": "code",
   "execution_count": 2,
   "metadata": {},
   "outputs": [
    {
     "data": {
      "text/plain": [
       "['.\\\\seoul_landmark\\\\dataset\\\\train\\\\001.PNG',\n",
       " '.\\\\seoul_landmark\\\\dataset\\\\train\\\\002.PNG',\n",
       " '.\\\\seoul_landmark\\\\dataset\\\\train\\\\003.PNG',\n",
       " '.\\\\seoul_landmark\\\\dataset\\\\train\\\\004.PNG',\n",
       " '.\\\\seoul_landmark\\\\dataset\\\\train\\\\005.PNG']"
      ]
     },
     "execution_count": 2,
     "metadata": {},
     "output_type": "execute_result"
    }
   ],
   "source": [
    "from glob import glob\n",
    "path = \".\\\\seoul_landmark\\\\dataset\\\\train\\\\*.PNG\"\n",
    "file_list = glob(path)\n",
    "file_list[:5]"
   ]
  }
 ],
 "metadata": {
  "kernelspec": {
   "display_name": "Python 3.9.12 ('base')",
   "language": "python",
   "name": "python3"
  },
  "language_info": {
   "codemirror_mode": {
    "name": "ipython",
    "version": 3
   },
   "file_extension": ".py",
   "mimetype": "text/x-python",
   "name": "python",
   "nbconvert_exporter": "python",
   "pygments_lexer": "ipython3",
   "version": "3.9.12"
  },
  "orig_nbformat": 4,
  "vscode": {
   "interpreter": {
    "hash": "ad2bdc8ecc057115af97d19610ffacc2b4e99fae6737bb82f5d7fb13d2f2c186"
   }
  }
 },
 "nbformat": 4,
 "nbformat_minor": 2
}
